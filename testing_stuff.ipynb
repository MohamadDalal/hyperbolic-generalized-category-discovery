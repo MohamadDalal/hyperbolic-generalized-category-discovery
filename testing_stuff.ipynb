{
 "cells": [
  {
   "cell_type": "code",
   "execution_count": 3,
   "metadata": {},
   "outputs": [],
   "source": [
    "import torch\n",
    "from methods.clustering.faster_mix_k_means_pytorch import pairwise_distance\n",
    "from project_utils.lorentz import pairwise_dist as lorentz_pairwise_dist\n",
    "from project_utils.lorentz import pairwise_inner as lorentz_pairwise_inner"
   ]
  },
  {
   "cell_type": "code",
   "execution_count": 9,
   "metadata": {},
   "outputs": [],
   "source": [
    "embeds = torch.randn(10, 512)\n",
    "centers = torch.randn(5, 512)\n",
    "pair_dist = pairwise_distance(embeds, centers)\n",
    "dist2 = torch.matmul(embeds, centers.t())\n",
    "hyp_pair_dist = lorentz_pairwise_dist(embeds, centers, 2) "
   ]
  },
  {
   "cell_type": "code",
   "execution_count": 10,
   "metadata": {},
   "outputs": [
    {
     "name": "stdout",
     "output_type": "stream",
     "text": [
      "torch.Size([10, 5])\n",
      "torch.Size([10, 5])\n",
      "torch.Size([10, 5])\n"
     ]
    }
   ],
   "source": [
    "print(pair_dist.shape)\n",
    "print(dist2.shape)\n",
    "print(hyp_pair_dist.shape)\n"
   ]
  },
  {
   "cell_type": "code",
   "execution_count": 11,
   "metadata": {},
   "outputs": [
    {
     "name": "stdout",
     "output_type": "stream",
     "text": [
      "tensor([[1012.7142, 1023.2885,  989.1441, 1057.6973,  995.8853],\n",
      "        [1068.1846,  971.4751, 1031.1577, 1067.6117, 1085.8468],\n",
      "        [ 992.2310,  993.9666, 1010.7922,  958.0060,  971.3592],\n",
      "        [1059.5291,  995.1831,  894.7130, 1066.6942, 1057.3076],\n",
      "        [1044.4165,  980.5476,  969.7465, 1113.5642, 1017.2137],\n",
      "        [1189.9812,  985.1036, 1032.6238, 1051.2634, 1079.8756],\n",
      "        [1015.4780,  873.4585, 1013.3519, 1067.2152,  979.9601],\n",
      "        [1213.7441, 1045.0063, 1086.8579, 1049.1482, 1095.7402],\n",
      "        [1123.5165, 1035.3019, 1034.4357, 1037.2007, 1046.1222],\n",
      "        [1134.2799, 1051.1781, 1027.2856, 1138.2362, 1128.4786]])\n",
      "tensor([[ 29.3874, -25.6107, -14.6008, -13.9754,   8.1716],\n",
      "        [ 19.3349,  17.9787, -17.9249,  -1.2499, -19.1265],\n",
      "        [ 33.2585, -17.3201, -31.7953,  29.4998,  14.0641],\n",
      "        [  6.3797, -11.1581,  33.0146, -18.0740, -22.1398],\n",
      "        [ 11.1189,  -6.6574,  -7.3192, -44.3261,  -4.9099],\n",
      "        [-35.1894,  17.5385, -12.2839,  13.2982,  -9.7669],\n",
      "        [ 45.7036,  67.0024,  -9.0067,  -1.0364,  33.8321],\n",
      "        [-38.2889,  -3.6308, -30.6190,  23.1379,  -8.9172],\n",
      "        [-11.4593, -17.0628, -22.6921,  10.8274,  -2.3924],\n",
      "        [ -1.2923,  -9.4522,  -3.5683, -24.1417, -28.0219]])\n"
     ]
    }
   ],
   "source": [
    "print(pair_dist)\n",
    "print(dist2)"
   ]
  },
  {
   "cell_type": "code",
   "execution_count": 38,
   "metadata": {},
   "outputs": [
    {
     "data": {
      "text/plain": [
       "tensor([[0.9025, 0.7812, 0.5771, 0.0000, 0.5771, 0.7812, 0.9025],\n",
       "        [1.4796, 1.3583, 1.1542, 0.5771, 0.0000, 0.2041, 0.3254],\n",
       "        [1.6837, 1.5624, 1.3583, 0.7812, 0.2041, 0.0000, 0.1213],\n",
       "        [1.8050, 1.6837, 1.4796, 0.9025, 0.3254, 0.1213, 0.0000],\n",
       "        [1.8914, 1.7701, 1.5660, 0.9889, 0.4118, 0.2077, 0.0864],\n",
       "        [1.9585, 1.8372, 1.6331, 1.0560, 0.4789, 0.2748, 0.1535],\n",
       "        [2.0134, 1.8921, 1.6880, 1.1109, 0.5338, 0.3297, 0.2084]])"
      ]
     },
     "execution_count": 38,
     "metadata": {},
     "output_type": "execute_result"
    }
   ],
   "source": [
    "embed = torch.arange(0, 7).float().view(-1, 1)\n",
    "center = torch.arange(-3, 4).float().view(-1, 1)\n",
    "torch.sqrt(pairwise_distance(embed, center))\n",
    "lorentz_pairwise_dist(embed, center, 11)"
   ]
  }
 ],
 "metadata": {
  "kernelspec": {
   "display_name": "venv",
   "language": "python",
   "name": "python3"
  },
  "language_info": {
   "codemirror_mode": {
    "name": "ipython",
    "version": 3
   },
   "file_extension": ".py",
   "mimetype": "text/x-python",
   "name": "python",
   "nbconvert_exporter": "python",
   "pygments_lexer": "ipython3",
   "version": "3.13.2"
  }
 },
 "nbformat": 4,
 "nbformat_minor": 2
}
